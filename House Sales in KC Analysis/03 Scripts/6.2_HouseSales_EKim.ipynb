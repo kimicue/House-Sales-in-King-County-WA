{
 "cells": [
  {
   "cell_type": "markdown",
   "id": "51aed34a",
   "metadata": {},
   "source": [
    "# Exercise 6.2 Exporatory Analysis"
   ]
  },
  {
   "cell_type": "markdown",
   "id": "36d1ea25",
   "metadata": {},
   "source": [
    "## 1. Importing Libraries and Data"
   ]
  },
  {
   "cell_type": "code",
   "execution_count": 1,
   "id": "7ed9e08d",
   "metadata": {},
   "outputs": [],
   "source": [
    "# Import libraries\n",
    "import pandas as pd\n",
    "import numpy as np\n",
    "import seaborn as sns\n",
    "import matplotlib.pyplot as plt\n",
    "import matplotlib\n",
    "import os"
   ]
  },
  {
   "cell_type": "code",
   "execution_count": 2,
   "id": "db213e6c",
   "metadata": {},
   "outputs": [
    {
     "data": {
      "text/plain": [
       "'3.7.1'"
      ]
     },
     "execution_count": 2,
     "metadata": {},
     "output_type": "execute_result"
    }
   ],
   "source": [
    "# Check the matplotlib version\n",
    "matplotlib.__version__\n"
   ]
  },
  {
   "cell_type": "code",
   "execution_count": 3,
   "id": "cd179f57",
   "metadata": {},
   "outputs": [],
   "source": [
    "# Create folder path\n",
    "path = r'/Users/peterkim/Document/sql/CareerFoundry/Immersion Prep/6. Advanced Analytics & Dashboard Design/Ex01/Adv_Anal&Dash_Task01/House Sales in KC Analysis'\n"
   ]
  },
  {
   "cell_type": "code",
   "execution_count": 4,
   "id": "7428928a",
   "metadata": {},
   "outputs": [],
   "source": [
    "# Import 'df_haus_cleaned.csv' to make df_haus\n",
    "df_haus = pd.read_csv(os.path.join(path, '02 Data', 'Prepared Data', 'df_haus_cleaned.csv'), index_col = False)\n"
   ]
  },
  {
   "cell_type": "code",
   "execution_count": 5,
   "id": "15a27b1b",
   "metadata": {},
   "outputs": [
    {
     "data": {
      "text/html": [
       "<div>\n",
       "<style scoped>\n",
       "    .dataframe tbody tr th:only-of-type {\n",
       "        vertical-align: middle;\n",
       "    }\n",
       "\n",
       "    .dataframe tbody tr th {\n",
       "        vertical-align: top;\n",
       "    }\n",
       "\n",
       "    .dataframe thead th {\n",
       "        text-align: right;\n",
       "    }\n",
       "</style>\n",
       "<table border=\"1\" class=\"dataframe\">\n",
       "  <thead>\n",
       "    <tr style=\"text-align: right;\">\n",
       "      <th></th>\n",
       "      <th>Unnamed: 0</th>\n",
       "      <th>id</th>\n",
       "      <th>date</th>\n",
       "      <th>price</th>\n",
       "      <th>bedrooms</th>\n",
       "      <th>bathrooms</th>\n",
       "      <th>sqft_living</th>\n",
       "      <th>sqft_lot</th>\n",
       "      <th>floors</th>\n",
       "      <th>waterfront</th>\n",
       "      <th>view</th>\n",
       "      <th>condition</th>\n",
       "      <th>grade</th>\n",
       "      <th>yr_built</th>\n",
       "      <th>yr_renovated</th>\n",
       "      <th>zipcode</th>\n",
       "    </tr>\n",
       "  </thead>\n",
       "  <tbody>\n",
       "    <tr>\n",
       "      <th>0</th>\n",
       "      <td>0</td>\n",
       "      <td>7129300520</td>\n",
       "      <td>20141013</td>\n",
       "      <td>221900.0</td>\n",
       "      <td>3</td>\n",
       "      <td>1.00</td>\n",
       "      <td>1180</td>\n",
       "      <td>5650</td>\n",
       "      <td>1.0</td>\n",
       "      <td>0</td>\n",
       "      <td>0</td>\n",
       "      <td>3</td>\n",
       "      <td>7</td>\n",
       "      <td>1955</td>\n",
       "      <td>0</td>\n",
       "      <td>98178</td>\n",
       "    </tr>\n",
       "    <tr>\n",
       "      <th>1</th>\n",
       "      <td>1</td>\n",
       "      <td>6414100192</td>\n",
       "      <td>20141209</td>\n",
       "      <td>538000.0</td>\n",
       "      <td>3</td>\n",
       "      <td>2.25</td>\n",
       "      <td>2570</td>\n",
       "      <td>7242</td>\n",
       "      <td>2.0</td>\n",
       "      <td>0</td>\n",
       "      <td>0</td>\n",
       "      <td>3</td>\n",
       "      <td>7</td>\n",
       "      <td>1951</td>\n",
       "      <td>1991</td>\n",
       "      <td>98125</td>\n",
       "    </tr>\n",
       "    <tr>\n",
       "      <th>2</th>\n",
       "      <td>2</td>\n",
       "      <td>5631500400</td>\n",
       "      <td>20150225</td>\n",
       "      <td>180000.0</td>\n",
       "      <td>2</td>\n",
       "      <td>1.00</td>\n",
       "      <td>770</td>\n",
       "      <td>10000</td>\n",
       "      <td>1.0</td>\n",
       "      <td>0</td>\n",
       "      <td>0</td>\n",
       "      <td>3</td>\n",
       "      <td>6</td>\n",
       "      <td>1933</td>\n",
       "      <td>0</td>\n",
       "      <td>98028</td>\n",
       "    </tr>\n",
       "    <tr>\n",
       "      <th>3</th>\n",
       "      <td>3</td>\n",
       "      <td>2487200875</td>\n",
       "      <td>20141209</td>\n",
       "      <td>604000.0</td>\n",
       "      <td>4</td>\n",
       "      <td>3.00</td>\n",
       "      <td>1960</td>\n",
       "      <td>5000</td>\n",
       "      <td>1.0</td>\n",
       "      <td>0</td>\n",
       "      <td>0</td>\n",
       "      <td>5</td>\n",
       "      <td>7</td>\n",
       "      <td>1965</td>\n",
       "      <td>0</td>\n",
       "      <td>98136</td>\n",
       "    </tr>\n",
       "    <tr>\n",
       "      <th>4</th>\n",
       "      <td>4</td>\n",
       "      <td>1954400510</td>\n",
       "      <td>20150218</td>\n",
       "      <td>510000.0</td>\n",
       "      <td>3</td>\n",
       "      <td>2.00</td>\n",
       "      <td>1680</td>\n",
       "      <td>8080</td>\n",
       "      <td>1.0</td>\n",
       "      <td>0</td>\n",
       "      <td>0</td>\n",
       "      <td>3</td>\n",
       "      <td>8</td>\n",
       "      <td>1987</td>\n",
       "      <td>0</td>\n",
       "      <td>98074</td>\n",
       "    </tr>\n",
       "  </tbody>\n",
       "</table>\n",
       "</div>"
      ],
      "text/plain": [
       "   Unnamed: 0          id      date     price  bedrooms  bathrooms  \\\n",
       "0           0  7129300520  20141013  221900.0         3       1.00   \n",
       "1           1  6414100192  20141209  538000.0         3       2.25   \n",
       "2           2  5631500400  20150225  180000.0         2       1.00   \n",
       "3           3  2487200875  20141209  604000.0         4       3.00   \n",
       "4           4  1954400510  20150218  510000.0         3       2.00   \n",
       "\n",
       "   sqft_living  sqft_lot  floors  waterfront  view  condition  grade  \\\n",
       "0         1180      5650     1.0           0     0          3      7   \n",
       "1         2570      7242     2.0           0     0          3      7   \n",
       "2          770     10000     1.0           0     0          3      6   \n",
       "3         1960      5000     1.0           0     0          5      7   \n",
       "4         1680      8080     1.0           0     0          3      8   \n",
       "\n",
       "   yr_built  yr_renovated  zipcode  \n",
       "0      1955             0    98178  \n",
       "1      1951          1991    98125  \n",
       "2      1933             0    98028  \n",
       "3      1965             0    98136  \n",
       "4      1987             0    98074  "
      ]
     },
     "execution_count": 5,
     "metadata": {},
     "output_type": "execute_result"
    }
   ],
   "source": [
    "# Check head\n",
    "df_haus.head()\n"
   ]
  },
  {
   "cell_type": "code",
   "execution_count": 6,
   "id": "867a830f",
   "metadata": {},
   "outputs": [],
   "source": [
    "# Dropping unnecessary columns\n",
    "df_haus = df_haus.drop(columns = ['Unnamed: 0'])\n"
   ]
  },
  {
   "cell_type": "code",
   "execution_count": 7,
   "id": "70fc85db",
   "metadata": {},
   "outputs": [
    {
     "data": {
      "text/html": [
       "<div>\n",
       "<style scoped>\n",
       "    .dataframe tbody tr th:only-of-type {\n",
       "        vertical-align: middle;\n",
       "    }\n",
       "\n",
       "    .dataframe tbody tr th {\n",
       "        vertical-align: top;\n",
       "    }\n",
       "\n",
       "    .dataframe thead th {\n",
       "        text-align: right;\n",
       "    }\n",
       "</style>\n",
       "<table border=\"1\" class=\"dataframe\">\n",
       "  <thead>\n",
       "    <tr style=\"text-align: right;\">\n",
       "      <th></th>\n",
       "      <th>id</th>\n",
       "      <th>date</th>\n",
       "      <th>price</th>\n",
       "      <th>bedrooms</th>\n",
       "      <th>bathrooms</th>\n",
       "      <th>sqft_living</th>\n",
       "      <th>sqft_lot</th>\n",
       "      <th>floors</th>\n",
       "      <th>waterfront</th>\n",
       "      <th>view</th>\n",
       "      <th>condition</th>\n",
       "      <th>grade</th>\n",
       "      <th>yr_built</th>\n",
       "      <th>yr_renovated</th>\n",
       "      <th>zipcode</th>\n",
       "    </tr>\n",
       "  </thead>\n",
       "  <tbody>\n",
       "    <tr>\n",
       "      <th>0</th>\n",
       "      <td>7129300520</td>\n",
       "      <td>20141013</td>\n",
       "      <td>221900.0</td>\n",
       "      <td>3</td>\n",
       "      <td>1.00</td>\n",
       "      <td>1180</td>\n",
       "      <td>5650</td>\n",
       "      <td>1.0</td>\n",
       "      <td>0</td>\n",
       "      <td>0</td>\n",
       "      <td>3</td>\n",
       "      <td>7</td>\n",
       "      <td>1955</td>\n",
       "      <td>0</td>\n",
       "      <td>98178</td>\n",
       "    </tr>\n",
       "    <tr>\n",
       "      <th>1</th>\n",
       "      <td>6414100192</td>\n",
       "      <td>20141209</td>\n",
       "      <td>538000.0</td>\n",
       "      <td>3</td>\n",
       "      <td>2.25</td>\n",
       "      <td>2570</td>\n",
       "      <td>7242</td>\n",
       "      <td>2.0</td>\n",
       "      <td>0</td>\n",
       "      <td>0</td>\n",
       "      <td>3</td>\n",
       "      <td>7</td>\n",
       "      <td>1951</td>\n",
       "      <td>1991</td>\n",
       "      <td>98125</td>\n",
       "    </tr>\n",
       "    <tr>\n",
       "      <th>2</th>\n",
       "      <td>5631500400</td>\n",
       "      <td>20150225</td>\n",
       "      <td>180000.0</td>\n",
       "      <td>2</td>\n",
       "      <td>1.00</td>\n",
       "      <td>770</td>\n",
       "      <td>10000</td>\n",
       "      <td>1.0</td>\n",
       "      <td>0</td>\n",
       "      <td>0</td>\n",
       "      <td>3</td>\n",
       "      <td>6</td>\n",
       "      <td>1933</td>\n",
       "      <td>0</td>\n",
       "      <td>98028</td>\n",
       "    </tr>\n",
       "    <tr>\n",
       "      <th>3</th>\n",
       "      <td>2487200875</td>\n",
       "      <td>20141209</td>\n",
       "      <td>604000.0</td>\n",
       "      <td>4</td>\n",
       "      <td>3.00</td>\n",
       "      <td>1960</td>\n",
       "      <td>5000</td>\n",
       "      <td>1.0</td>\n",
       "      <td>0</td>\n",
       "      <td>0</td>\n",
       "      <td>5</td>\n",
       "      <td>7</td>\n",
       "      <td>1965</td>\n",
       "      <td>0</td>\n",
       "      <td>98136</td>\n",
       "    </tr>\n",
       "    <tr>\n",
       "      <th>4</th>\n",
       "      <td>1954400510</td>\n",
       "      <td>20150218</td>\n",
       "      <td>510000.0</td>\n",
       "      <td>3</td>\n",
       "      <td>2.00</td>\n",
       "      <td>1680</td>\n",
       "      <td>8080</td>\n",
       "      <td>1.0</td>\n",
       "      <td>0</td>\n",
       "      <td>0</td>\n",
       "      <td>3</td>\n",
       "      <td>8</td>\n",
       "      <td>1987</td>\n",
       "      <td>0</td>\n",
       "      <td>98074</td>\n",
       "    </tr>\n",
       "  </tbody>\n",
       "</table>\n",
       "</div>"
      ],
      "text/plain": [
       "           id      date     price  bedrooms  bathrooms  sqft_living  sqft_lot  \\\n",
       "0  7129300520  20141013  221900.0         3       1.00         1180      5650   \n",
       "1  6414100192  20141209  538000.0         3       2.25         2570      7242   \n",
       "2  5631500400  20150225  180000.0         2       1.00          770     10000   \n",
       "3  2487200875  20141209  604000.0         4       3.00         1960      5000   \n",
       "4  1954400510  20150218  510000.0         3       2.00         1680      8080   \n",
       "\n",
       "   floors  waterfront  view  condition  grade  yr_built  yr_renovated  zipcode  \n",
       "0     1.0           0     0          3      7      1955             0    98178  \n",
       "1     2.0           0     0          3      7      1951          1991    98125  \n",
       "2     1.0           0     0          3      6      1933             0    98028  \n",
       "3     1.0           0     0          5      7      1965             0    98136  \n",
       "4     1.0           0     0          3      8      1987             0    98074  "
      ]
     },
     "execution_count": 7,
     "metadata": {},
     "output_type": "execute_result"
    }
   ],
   "source": [
    "# Checking head again\n",
    "df_haus.head()\n"
   ]
  },
  {
   "cell_type": "code",
   "execution_count": 8,
   "id": "3a7eb0fa",
   "metadata": {},
   "outputs": [
    {
     "data": {
      "text/html": [
       "<div>\n",
       "<style scoped>\n",
       "    .dataframe tbody tr th:only-of-type {\n",
       "        vertical-align: middle;\n",
       "    }\n",
       "\n",
       "    .dataframe tbody tr th {\n",
       "        vertical-align: top;\n",
       "    }\n",
       "\n",
       "    .dataframe thead th {\n",
       "        text-align: right;\n",
       "    }\n",
       "</style>\n",
       "<table border=\"1\" class=\"dataframe\">\n",
       "  <thead>\n",
       "    <tr style=\"text-align: right;\">\n",
       "      <th></th>\n",
       "      <th>id</th>\n",
       "      <th>date</th>\n",
       "      <th>price</th>\n",
       "      <th>bedrooms</th>\n",
       "      <th>bathrooms</th>\n",
       "      <th>sqft_living</th>\n",
       "      <th>sqft_lot</th>\n",
       "      <th>floors</th>\n",
       "      <th>waterfront</th>\n",
       "      <th>view</th>\n",
       "      <th>condition</th>\n",
       "      <th>grade</th>\n",
       "      <th>yr_built</th>\n",
       "      <th>yr_renovated</th>\n",
       "      <th>zipcode</th>\n",
       "    </tr>\n",
       "  </thead>\n",
       "  <tbody>\n",
       "    <tr>\n",
       "      <th>id</th>\n",
       "      <td>1.000000</td>\n",
       "      <td>0.009857</td>\n",
       "      <td>-0.016762</td>\n",
       "      <td>0.002475</td>\n",
       "      <td>0.005160</td>\n",
       "      <td>-0.012258</td>\n",
       "      <td>-0.132109</td>\n",
       "      <td>0.018525</td>\n",
       "      <td>-0.002721</td>\n",
       "      <td>0.011592</td>\n",
       "      <td>-0.023783</td>\n",
       "      <td>0.008130</td>\n",
       "      <td>0.021380</td>\n",
       "      <td>-0.016907</td>\n",
       "      <td>-0.008224</td>\n",
       "    </tr>\n",
       "    <tr>\n",
       "      <th>date</th>\n",
       "      <td>0.009857</td>\n",
       "      <td>1.000000</td>\n",
       "      <td>0.003033</td>\n",
       "      <td>-0.009619</td>\n",
       "      <td>-0.027523</td>\n",
       "      <td>-0.029791</td>\n",
       "      <td>0.005599</td>\n",
       "      <td>-0.022550</td>\n",
       "      <td>-0.003798</td>\n",
       "      <td>0.001063</td>\n",
       "      <td>-0.046517</td>\n",
       "      <td>-0.031464</td>\n",
       "      <td>0.003248</td>\n",
       "      <td>-0.024070</td>\n",
       "      <td>0.001235</td>\n",
       "    </tr>\n",
       "    <tr>\n",
       "      <th>price</th>\n",
       "      <td>-0.016762</td>\n",
       "      <td>0.003033</td>\n",
       "      <td>1.000000</td>\n",
       "      <td>0.315438</td>\n",
       "      <td>0.525138</td>\n",
       "      <td>0.702035</td>\n",
       "      <td>0.089661</td>\n",
       "      <td>0.256794</td>\n",
       "      <td>0.266369</td>\n",
       "      <td>0.397293</td>\n",
       "      <td>0.036362</td>\n",
       "      <td>0.667434</td>\n",
       "      <td>0.054012</td>\n",
       "      <td>0.126434</td>\n",
       "      <td>-0.053203</td>\n",
       "    </tr>\n",
       "    <tr>\n",
       "      <th>bedrooms</th>\n",
       "      <td>0.002475</td>\n",
       "      <td>-0.009619</td>\n",
       "      <td>0.315438</td>\n",
       "      <td>1.000000</td>\n",
       "      <td>0.529163</td>\n",
       "      <td>0.591471</td>\n",
       "      <td>0.032811</td>\n",
       "      <td>0.181098</td>\n",
       "      <td>-0.006609</td>\n",
       "      <td>0.081935</td>\n",
       "      <td>0.025428</td>\n",
       "      <td>0.366509</td>\n",
       "      <td>0.159180</td>\n",
       "      <td>0.019621</td>\n",
       "      <td>-0.157100</td>\n",
       "    </tr>\n",
       "    <tr>\n",
       "      <th>bathrooms</th>\n",
       "      <td>0.005160</td>\n",
       "      <td>-0.027523</td>\n",
       "      <td>0.525138</td>\n",
       "      <td>0.529163</td>\n",
       "      <td>1.000000</td>\n",
       "      <td>0.754665</td>\n",
       "      <td>0.087740</td>\n",
       "      <td>0.500653</td>\n",
       "      <td>0.063744</td>\n",
       "      <td>0.187737</td>\n",
       "      <td>-0.124982</td>\n",
       "      <td>0.664983</td>\n",
       "      <td>0.506019</td>\n",
       "      <td>0.050739</td>\n",
       "      <td>-0.203866</td>\n",
       "    </tr>\n",
       "    <tr>\n",
       "      <th>sqft_living</th>\n",
       "      <td>-0.012258</td>\n",
       "      <td>-0.029791</td>\n",
       "      <td>0.702035</td>\n",
       "      <td>0.591471</td>\n",
       "      <td>0.754665</td>\n",
       "      <td>1.000000</td>\n",
       "      <td>0.172826</td>\n",
       "      <td>0.353949</td>\n",
       "      <td>0.103818</td>\n",
       "      <td>0.284611</td>\n",
       "      <td>-0.058753</td>\n",
       "      <td>0.762704</td>\n",
       "      <td>0.318049</td>\n",
       "      <td>0.055363</td>\n",
       "      <td>-0.199430</td>\n",
       "    </tr>\n",
       "    <tr>\n",
       "      <th>sqft_lot</th>\n",
       "      <td>-0.132109</td>\n",
       "      <td>0.005599</td>\n",
       "      <td>0.089661</td>\n",
       "      <td>0.032811</td>\n",
       "      <td>0.087740</td>\n",
       "      <td>0.172826</td>\n",
       "      <td>1.000000</td>\n",
       "      <td>-0.005201</td>\n",
       "      <td>0.021604</td>\n",
       "      <td>0.074710</td>\n",
       "      <td>-0.008958</td>\n",
       "      <td>0.113621</td>\n",
       "      <td>0.053080</td>\n",
       "      <td>0.007644</td>\n",
       "      <td>-0.129574</td>\n",
       "    </tr>\n",
       "    <tr>\n",
       "      <th>floors</th>\n",
       "      <td>0.018525</td>\n",
       "      <td>-0.022550</td>\n",
       "      <td>0.256794</td>\n",
       "      <td>0.181098</td>\n",
       "      <td>0.500653</td>\n",
       "      <td>0.353949</td>\n",
       "      <td>-0.005201</td>\n",
       "      <td>1.000000</td>\n",
       "      <td>0.023698</td>\n",
       "      <td>0.029444</td>\n",
       "      <td>-0.263768</td>\n",
       "      <td>0.458183</td>\n",
       "      <td>0.489319</td>\n",
       "      <td>0.006338</td>\n",
       "      <td>-0.059121</td>\n",
       "    </tr>\n",
       "    <tr>\n",
       "      <th>waterfront</th>\n",
       "      <td>-0.002721</td>\n",
       "      <td>-0.003798</td>\n",
       "      <td>0.266369</td>\n",
       "      <td>-0.006609</td>\n",
       "      <td>0.063744</td>\n",
       "      <td>0.103818</td>\n",
       "      <td>0.021604</td>\n",
       "      <td>0.023698</td>\n",
       "      <td>1.000000</td>\n",
       "      <td>0.401857</td>\n",
       "      <td>0.016653</td>\n",
       "      <td>0.082775</td>\n",
       "      <td>-0.026161</td>\n",
       "      <td>0.092885</td>\n",
       "      <td>0.030285</td>\n",
       "    </tr>\n",
       "    <tr>\n",
       "      <th>view</th>\n",
       "      <td>0.011592</td>\n",
       "      <td>0.001063</td>\n",
       "      <td>0.397293</td>\n",
       "      <td>0.081935</td>\n",
       "      <td>0.187737</td>\n",
       "      <td>0.284611</td>\n",
       "      <td>0.074710</td>\n",
       "      <td>0.029444</td>\n",
       "      <td>0.401857</td>\n",
       "      <td>1.000000</td>\n",
       "      <td>0.045990</td>\n",
       "      <td>0.251321</td>\n",
       "      <td>-0.053440</td>\n",
       "      <td>0.103917</td>\n",
       "      <td>0.084827</td>\n",
       "    </tr>\n",
       "    <tr>\n",
       "      <th>condition</th>\n",
       "      <td>-0.023783</td>\n",
       "      <td>-0.046517</td>\n",
       "      <td>0.036362</td>\n",
       "      <td>0.025428</td>\n",
       "      <td>-0.124982</td>\n",
       "      <td>-0.058753</td>\n",
       "      <td>-0.008958</td>\n",
       "      <td>-0.263768</td>\n",
       "      <td>0.016653</td>\n",
       "      <td>0.045990</td>\n",
       "      <td>1.000000</td>\n",
       "      <td>-0.144674</td>\n",
       "      <td>-0.361417</td>\n",
       "      <td>-0.060618</td>\n",
       "      <td>0.003026</td>\n",
       "    </tr>\n",
       "    <tr>\n",
       "      <th>grade</th>\n",
       "      <td>0.008130</td>\n",
       "      <td>-0.031464</td>\n",
       "      <td>0.667434</td>\n",
       "      <td>0.366509</td>\n",
       "      <td>0.664983</td>\n",
       "      <td>0.762704</td>\n",
       "      <td>0.113621</td>\n",
       "      <td>0.458183</td>\n",
       "      <td>0.082775</td>\n",
       "      <td>0.251321</td>\n",
       "      <td>-0.144674</td>\n",
       "      <td>1.000000</td>\n",
       "      <td>0.446963</td>\n",
       "      <td>0.014414</td>\n",
       "      <td>-0.184862</td>\n",
       "    </tr>\n",
       "    <tr>\n",
       "      <th>yr_built</th>\n",
       "      <td>0.021380</td>\n",
       "      <td>0.003248</td>\n",
       "      <td>0.054012</td>\n",
       "      <td>0.159180</td>\n",
       "      <td>0.506019</td>\n",
       "      <td>0.318049</td>\n",
       "      <td>0.053080</td>\n",
       "      <td>0.489319</td>\n",
       "      <td>-0.026161</td>\n",
       "      <td>-0.053440</td>\n",
       "      <td>-0.361417</td>\n",
       "      <td>0.446963</td>\n",
       "      <td>1.000000</td>\n",
       "      <td>-0.224874</td>\n",
       "      <td>-0.346869</td>\n",
       "    </tr>\n",
       "    <tr>\n",
       "      <th>yr_renovated</th>\n",
       "      <td>-0.016907</td>\n",
       "      <td>-0.024070</td>\n",
       "      <td>0.126434</td>\n",
       "      <td>0.019621</td>\n",
       "      <td>0.050739</td>\n",
       "      <td>0.055363</td>\n",
       "      <td>0.007644</td>\n",
       "      <td>0.006338</td>\n",
       "      <td>0.092885</td>\n",
       "      <td>0.103917</td>\n",
       "      <td>-0.060618</td>\n",
       "      <td>0.014414</td>\n",
       "      <td>-0.224874</td>\n",
       "      <td>1.000000</td>\n",
       "      <td>0.064357</td>\n",
       "    </tr>\n",
       "    <tr>\n",
       "      <th>zipcode</th>\n",
       "      <td>-0.008224</td>\n",
       "      <td>0.001235</td>\n",
       "      <td>-0.053203</td>\n",
       "      <td>-0.157100</td>\n",
       "      <td>-0.203866</td>\n",
       "      <td>-0.199430</td>\n",
       "      <td>-0.129574</td>\n",
       "      <td>-0.059121</td>\n",
       "      <td>0.030285</td>\n",
       "      <td>0.084827</td>\n",
       "      <td>0.003026</td>\n",
       "      <td>-0.184862</td>\n",
       "      <td>-0.346869</td>\n",
       "      <td>0.064357</td>\n",
       "      <td>1.000000</td>\n",
       "    </tr>\n",
       "  </tbody>\n",
       "</table>\n",
       "</div>"
      ],
      "text/plain": [
       "                    id      date     price  bedrooms  bathrooms  sqft_living  \\\n",
       "id            1.000000  0.009857 -0.016762  0.002475   0.005160    -0.012258   \n",
       "date          0.009857  1.000000  0.003033 -0.009619  -0.027523    -0.029791   \n",
       "price        -0.016762  0.003033  1.000000  0.315438   0.525138     0.702035   \n",
       "bedrooms      0.002475 -0.009619  0.315438  1.000000   0.529163     0.591471   \n",
       "bathrooms     0.005160 -0.027523  0.525138  0.529163   1.000000     0.754665   \n",
       "sqft_living  -0.012258 -0.029791  0.702035  0.591471   0.754665     1.000000   \n",
       "sqft_lot     -0.132109  0.005599  0.089661  0.032811   0.087740     0.172826   \n",
       "floors        0.018525 -0.022550  0.256794  0.181098   0.500653     0.353949   \n",
       "waterfront   -0.002721 -0.003798  0.266369 -0.006609   0.063744     0.103818   \n",
       "view          0.011592  0.001063  0.397293  0.081935   0.187737     0.284611   \n",
       "condition    -0.023783 -0.046517  0.036362  0.025428  -0.124982    -0.058753   \n",
       "grade         0.008130 -0.031464  0.667434  0.366509   0.664983     0.762704   \n",
       "yr_built      0.021380  0.003248  0.054012  0.159180   0.506019     0.318049   \n",
       "yr_renovated -0.016907 -0.024070  0.126434  0.019621   0.050739     0.055363   \n",
       "zipcode      -0.008224  0.001235 -0.053203 -0.157100  -0.203866    -0.199430   \n",
       "\n",
       "              sqft_lot    floors  waterfront      view  condition     grade  \\\n",
       "id           -0.132109  0.018525   -0.002721  0.011592  -0.023783  0.008130   \n",
       "date          0.005599 -0.022550   -0.003798  0.001063  -0.046517 -0.031464   \n",
       "price         0.089661  0.256794    0.266369  0.397293   0.036362  0.667434   \n",
       "bedrooms      0.032811  0.181098   -0.006609  0.081935   0.025428  0.366509   \n",
       "bathrooms     0.087740  0.500653    0.063744  0.187737  -0.124982  0.664983   \n",
       "sqft_living   0.172826  0.353949    0.103818  0.284611  -0.058753  0.762704   \n",
       "sqft_lot      1.000000 -0.005201    0.021604  0.074710  -0.008958  0.113621   \n",
       "floors       -0.005201  1.000000    0.023698  0.029444  -0.263768  0.458183   \n",
       "waterfront    0.021604  0.023698    1.000000  0.401857   0.016653  0.082775   \n",
       "view          0.074710  0.029444    0.401857  1.000000   0.045990  0.251321   \n",
       "condition    -0.008958 -0.263768    0.016653  0.045990   1.000000 -0.144674   \n",
       "grade         0.113621  0.458183    0.082775  0.251321  -0.144674  1.000000   \n",
       "yr_built      0.053080  0.489319   -0.026161 -0.053440  -0.361417  0.446963   \n",
       "yr_renovated  0.007644  0.006338    0.092885  0.103917  -0.060618  0.014414   \n",
       "zipcode      -0.129574 -0.059121    0.030285  0.084827   0.003026 -0.184862   \n",
       "\n",
       "              yr_built  yr_renovated   zipcode  \n",
       "id            0.021380     -0.016907 -0.008224  \n",
       "date          0.003248     -0.024070  0.001235  \n",
       "price         0.054012      0.126434 -0.053203  \n",
       "bedrooms      0.159180      0.019621 -0.157100  \n",
       "bathrooms     0.506019      0.050739 -0.203866  \n",
       "sqft_living   0.318049      0.055363 -0.199430  \n",
       "sqft_lot      0.053080      0.007644 -0.129574  \n",
       "floors        0.489319      0.006338 -0.059121  \n",
       "waterfront   -0.026161      0.092885  0.030285  \n",
       "view         -0.053440      0.103917  0.084827  \n",
       "condition    -0.361417     -0.060618  0.003026  \n",
       "grade         0.446963      0.014414 -0.184862  \n",
       "yr_built      1.000000     -0.224874 -0.346869  \n",
       "yr_renovated -0.224874      1.000000  0.064357  \n",
       "zipcode      -0.346869      0.064357  1.000000  "
      ]
     },
     "execution_count": 8,
     "metadata": {},
     "output_type": "execute_result"
    }
   ],
   "source": [
    "# Checking correlations between the columns\n",
    "df_haus.corr()"
   ]
  },
  {
   "cell_type": "code",
   "execution_count": 9,
   "id": "8cc07566",
   "metadata": {},
   "outputs": [
    {
     "data": {
      "text/plain": [
       "Index(['id', 'date', 'price', 'bedrooms', 'bathrooms', 'sqft_living',\n",
       "       'sqft_lot', 'floors', 'waterfront', 'view', 'condition', 'grade',\n",
       "       'yr_built', 'yr_renovated', 'zipcode'],\n",
       "      dtype='object')"
      ]
     },
     "execution_count": 9,
     "metadata": {},
     "output_type": "execute_result"
    }
   ],
   "source": [
    "# Checking columns\n",
    "df_haus.columns\n"
   ]
  },
  {
   "cell_type": "markdown",
   "id": "9ad65dc6",
   "metadata": {},
   "source": [
    "## 2. Creating Subsets with Columns Relevant to the Questions\n",
    "\n",
    "1) What is the distribution of house prices in King County, USA?\n",
    "2) How do types of houses impact the prices?\n",
    "3) How does the value of the waterfront or view affect house prices?\n",
    "4) Are any specific ZIP codes in King County known for higher or lower house prices?\n",
    "5) What is the average size of living space and lot and how does it correlate with the price?\n",
    "6) How have house prices been influenced by grades or conditions?\n",
    "7) What is the average age of houses in the dataset, and does that affect prices?"
   ]
  },
  {
   "cell_type": "code",
   "execution_count": 10,
   "id": "64eb67b9",
   "metadata": {},
   "outputs": [],
   "source": [
    "# Making categories of the columns.\n",
    "types = ['bedrooms', 'bathrooms', 'floors']\n",
    "sizes = ['sqft_living', 'sqft_lot']\n",
    "views = ['waterfront', 'view']\n",
    "status = ['condition', 'grade']\n",
    "ages = ['yr_built', 'yr_renovated']\n"
   ]
  },
  {
   "cell_type": "code",
   "execution_count": 11,
   "id": "0d87098d",
   "metadata": {},
   "outputs": [],
   "source": [
    "# Making subsets\n",
    "df_all = df_haus[['price', 'bedrooms', 'bathrooms', 'sqft_living', \n",
    "                  'sqft_lot', 'floors', 'waterfront', 'view', \n",
    "                  'condition', 'grade', 'yr_built', 'yr_renovated', \n",
    "                  'zipcode']]\n",
    "\n",
    "# Making subsets for visualization   \n",
    "df_types_price = df_haus[['price'] + types]\n",
    "df_views_price = df_haus[['price'] + views]\n",
    "df_sizes_price = df_haus[['price'] + sizes]\n",
    "df_status_price = df_haus[['price'] + status]               \n",
    "df_ages_price = df_haus[['price'] + ages]               \n"
   ]
  },
  {
   "cell_type": "markdown",
   "id": "b030038a",
   "metadata": {},
   "source": [
    "## 3. Create a correlation matrix heatmap (colored)\n",
    "\n",
    "Discuss what the coefficients in the plot mean in terms of the relationships between the variables."
   ]
  },
  {
   "cell_type": "code",
   "execution_count": 12,
   "id": "de31b30e",
   "metadata": {},
   "outputs": [
    {
     "data": {
      "text/plain": [
       "'/Users/peterkim/Document/sql/CareerFoundry/Immersion Prep/6. Advanced Analytics & Dashboard Design/Ex02/Adv_Anal&Dash_Task02'"
      ]
     },
     "execution_count": 12,
     "metadata": {},
     "output_type": "execute_result"
    }
   ],
   "source": [
    "# Checking current directory\n",
    "cd = os.getcwd()\n",
    "cd\n"
   ]
  },
  {
   "cell_type": "code",
   "execution_count": 14,
   "id": "4ab766b2",
   "metadata": {},
   "outputs": [],
   "source": [
    "# Create folder path\n",
    "path = '/Users/peterkim/Document/sql/CareerFoundry/Immersion Prep/6. Advanced Analytics & Dashboard Design/House Sales in KC Analysis'\n",
    "\n",
    "# Assuming df_all is your DataFrame\n",
    "correlation_matrix = df_all.corr()\n",
    "correlation_long = correlation_matrix.reset_index().melt(id_vars='index')\n",
    "correlation_long.to_csv(os.path.join(path, '02 Data', 'Prepared Data', 'correlation_matrix.csv'), index=False)\n"
   ]
  },
  {
   "cell_type": "markdown",
   "id": "47d93c1a",
   "metadata": {},
   "source": [
    "### a. Create a correlation matrix heatmap (colored) in matplotlib"
   ]
  },
  {
   "cell_type": "code",
   "execution_count": null,
   "id": "6c29c250",
   "metadata": {},
   "outputs": [],
   "source": [
    "# Adding labels and a legend for the large correlation map\n",
    "\n",
    "# Figure size\n",
    "f = plt.figure(figsize=(8,8)) \n",
    "\n",
    "# Type of plot\n",
    "plt.matshow(df_all.corr(), fignum=f.number) \n",
    "\n",
    "# x axis labels\n",
    "plt.xticks(range(df_all.shape[1]), df_all.columns, fontsize=10, rotation=90)\n",
    "\n",
    "# y axis labels\n",
    "plt.yticks(range(df_all.shape[1]), df_all.columns, fontsize=10)\n",
    "\n",
    "# Adding a colour legend\n",
    "cb = plt.colorbar()\n",
    "\n",
    "# Adding font size\n",
    "cb.ax.tick_params(labelsize=14)\n",
    "\n",
    "# Add title\n",
    "plt.title('Correlation Matrix', fontsize=14) \n",
    "\n",
    "# Export\n",
    "plt.savefig(\"corr_all.png\")\n"
   ]
  },
  {
   "cell_type": "markdown",
   "id": "27a79797",
   "metadata": {},
   "source": [
    "### b. Create a correlation matrix heatmap (colored) in seaborn"
   ]
  },
  {
   "cell_type": "code",
   "execution_count": null,
   "id": "b42ebdae",
   "metadata": {
    "scrolled": false
   },
   "outputs": [],
   "source": [
    "# Creating a subplot with matplotlib\n",
    "f,ax = plt.subplots(figsize=(20,20))\n",
    "\n",
    "# Creating the correlation heatmap in seaborn by applying a heatmap onto the correlation matrix and the subplots defined above.\n",
    "# The `annot` argument allows the plot to\n",
    "corr = sns.heatmap(df_all.corr(), annot = True, ax = ax) \n",
    "\n",
    "# Placing the correlation coefficients onto the heatmap"
   ]
  },
  {
   "cell_type": "markdown",
   "id": "1511b40e",
   "metadata": {},
   "source": [
    "## 3. Correlation continued, I will make a correlation plot for each of my subset dfs"
   ]
  },
  {
   "cell_type": "code",
   "execution_count": null,
   "id": "6ad1472b",
   "metadata": {
    "scrolled": false
   },
   "outputs": [],
   "source": [
    "#  Type of houses and prices\n",
    "\n",
    "# Create a subplot with matplotlib\n",
    "f,ax = plt.subplots(figsize=(7,7))\n",
    "\n",
    "# Create the correlation heatmap in seaborn by applying a heatmap onto the correlation matrix and the subplots defined above.\n",
    "# The `annot` argument allows the plot to \n",
    "corr = sns.heatmap(df_types_price.corr(), annot = True, ax = ax) \n",
    "\n",
    "# Place the correlation coefficients onto the heatmap."
   ]
  },
  {
   "cell_type": "code",
   "execution_count": null,
   "id": "eba186f9",
   "metadata": {},
   "outputs": [],
   "source": [
    "#  Views and prices\n",
    "\n",
    "# Create a subplot with matplotlib\n",
    "f,ax = plt.subplots(figsize=(7,7))\n",
    "\n",
    "# Create the correlation heatmap in seaborn by applying a heatmap onto the correlation matrix and the subplots defined above.\n",
    "# The `annot` argument allows the plot to \n",
    "corr = sns.heatmap(df_views_price.corr(), annot = True, ax = ax) \n",
    "\n",
    "# Place the correlation coefficients onto the heatmap."
   ]
  },
  {
   "cell_type": "code",
   "execution_count": null,
   "id": "58590039",
   "metadata": {},
   "outputs": [],
   "source": [
    "#  Sizes and prices\n",
    "\n",
    "# Create a subplot with matplotlib\n",
    "f,ax = plt.subplots(figsize=(7,7))\n",
    "\n",
    "# Create the correlation heatmap in seaborn by applying a heatmap onto the correlation matrix and the subplots defined above.\n",
    "# The `annot` argument allows the plot to \n",
    "corr = sns.heatmap(df_sizes_price.corr(), annot = True, ax = ax) \n",
    "\n",
    "# Place the correlation coefficients onto the heatmap."
   ]
  },
  {
   "cell_type": "code",
   "execution_count": null,
   "id": "7270345e",
   "metadata": {},
   "outputs": [],
   "source": [
    "#  Conditions and prices\n",
    "\n",
    "# Create a subplot with matplotlib\n",
    "f,ax = plt.subplots(figsize=(7,7))\n",
    "\n",
    "# Create the correlation heatmap in seaborn by applying a heatmap onto the correlation matrix and the subplots defined above.\n",
    "# The `annot` argument allows the plot to \n",
    "corr = sns.heatmap(df_status_price.corr(), annot = True, ax = ax) \n",
    "\n",
    "# Place the correlation coefficients onto the heatmap."
   ]
  },
  {
   "cell_type": "code",
   "execution_count": null,
   "id": "33863681",
   "metadata": {},
   "outputs": [],
   "source": [
    "#  Ages and prices\n",
    "\n",
    "# Create a subplot with matplotlib\n",
    "f,ax = plt.subplots(figsize=(7,7))\n",
    "\n",
    "# Create the correlation heatmap in seaborn by applying a heatmap onto the correlation matrix and the subplots defined above.\n",
    "# The `annot` argument allows the plot to \n",
    "corr = sns.heatmap(df_ages_price.corr(), annot = True, ax = ax) \n",
    "\n",
    "# Place the correlation coefficients onto the heatmap."
   ]
  },
  {
   "cell_type": "markdown",
   "id": "374f4a27",
   "metadata": {},
   "source": [
    "## 4. Create a scatterplot (or plots) for the variables with the strongest correlations and examine the nature of their relationships."
   ]
  },
  {
   "cell_type": "code",
   "execution_count": null,
   "id": "f11ea8b8",
   "metadata": {},
   "outputs": [],
   "source": [
    "# Making a scatter plot of prices and number of bedrooms\n",
    "sns.lmplot(x = 'price', y = 'bedrooms', data = df_haus)\n"
   ]
  },
  {
   "cell_type": "code",
   "execution_count": null,
   "id": "181cec39",
   "metadata": {},
   "outputs": [],
   "source": [
    "# Making a scatter plot of prices and number of bathrooms\n",
    "sns.lmplot(x = 'price', y = 'bathrooms', data = df_haus)\n"
   ]
  },
  {
   "cell_type": "code",
   "execution_count": null,
   "id": "6b46aca1",
   "metadata": {},
   "outputs": [],
   "source": [
    "# Making a scatter plot of prices and size of living area\n",
    "sns.lmplot(x = 'price', y = 'sqft_living', data = df_haus)\n"
   ]
  },
  {
   "cell_type": "code",
   "execution_count": null,
   "id": "9e43f89c",
   "metadata": {},
   "outputs": [],
   "source": [
    "# Making a scatter plot of prices and total land size\n",
    "sns.lmplot(x = 'price', y = 'sqft_lot', data = df_haus)\n"
   ]
  },
  {
   "cell_type": "code",
   "execution_count": null,
   "id": "c4c076e5",
   "metadata": {},
   "outputs": [],
   "source": [
    "# Making a scatter plot of prices and the number of floors\n",
    "sns.lmplot(x = 'price', y = 'floors', data = df_haus)\n"
   ]
  },
  {
   "cell_type": "markdown",
   "id": "6d1d6d11",
   "metadata": {},
   "source": [
    "## 5. Create a pair plot of the entire data set."
   ]
  },
  {
   "cell_type": "code",
   "execution_count": null,
   "id": "0a6eee4c",
   "metadata": {},
   "outputs": [],
   "source": [
    "# Create a pair for price by the type of the house\n",
    "g = sns.pairplot(df_types_price)\n"
   ]
  },
  {
   "cell_type": "code",
   "execution_count": null,
   "id": "8d35507e",
   "metadata": {},
   "outputs": [],
   "source": [
    "# Create a pair for price by the view\n",
    "g = sns.pairplot(df_views_price)\n"
   ]
  },
  {
   "cell_type": "code",
   "execution_count": null,
   "id": "47175df5",
   "metadata": {},
   "outputs": [],
   "source": [
    "# Create a pair for price by the size of the house\n",
    "g = sns.pairplot(df_sizes_price)\n"
   ]
  },
  {
   "cell_type": "code",
   "execution_count": null,
   "id": "c0edc591",
   "metadata": {},
   "outputs": [],
   "source": [
    "# Create a pair for price by the conditions of the house\n",
    "g = sns.pairplot(df_status_price)\n"
   ]
  },
  {
   "cell_type": "code",
   "execution_count": null,
   "id": "73d7d1ce",
   "metadata": {},
   "outputs": [],
   "source": [
    "# Create a pair for price by the ages of the house\n",
    "g = sns.pairplot(df_ages_price)\n"
   ]
  },
  {
   "cell_type": "markdown",
   "id": "d17ff6fb",
   "metadata": {},
   "source": [
    "## 6. Create a categorical plot and interpret the results."
   ]
  },
  {
   "cell_type": "code",
   "execution_count": null,
   "id": "1db6df2a",
   "metadata": {
    "scrolled": false
   },
   "outputs": [],
   "source": [
    "# Create a histogram for yearly percentage\n",
    "sns.histplot(df_haus['yr_built'], bins = 50, kde = True)\n"
   ]
  },
  {
   "cell_type": "code",
   "execution_count": null,
   "id": "a8241800",
   "metadata": {},
   "outputs": [],
   "source": [
    "# Create a histogram for yearly percentage\n",
    "sns.histplot(df_haus['price'], bins = 5000, kde = True)\n"
   ]
  },
  {
   "cell_type": "markdown",
   "id": "7fcbffcd",
   "metadata": {},
   "source": [
    "### Create categories of the price\n",
    "\n",
    "less than 300k - low price group     \n",
    "300k-750k - mid price group     \n",
    "more than 750k - high price group\n"
   ]
  },
  {
   "cell_type": "code",
   "execution_count": null,
   "id": "712c2fcd",
   "metadata": {},
   "outputs": [],
   "source": [
    "df_haus.loc[df_haus['price'] < 350000, 'Price Group'] = 'Low Price Group'\n"
   ]
  },
  {
   "cell_type": "code",
   "execution_count": null,
   "id": "4707847f",
   "metadata": {},
   "outputs": [],
   "source": [
    "df_haus.loc[(df_haus['price'] >= 350000) & (df_haus['price'] < 700000), 'Price Group'] = 'Mid Price Group'\n"
   ]
  },
  {
   "cell_type": "code",
   "execution_count": null,
   "id": "aeabd2d2",
   "metadata": {},
   "outputs": [],
   "source": [
    "df_haus.loc[df_haus['price'] >= 700000, 'Price Group'] = 'High Price Group'\n"
   ]
  },
  {
   "cell_type": "code",
   "execution_count": null,
   "id": "bff2a4a7",
   "metadata": {},
   "outputs": [],
   "source": [
    "# Check the column\n",
    "df_haus['Price Group'].value_counts(dropna = False)\n"
   ]
  },
  {
   "cell_type": "code",
   "execution_count": null,
   "id": "b9aef040",
   "metadata": {},
   "outputs": [],
   "source": [
    "df_haus['price'].value_counts(dropna = False)\n"
   ]
  },
  {
   "cell_type": "code",
   "execution_count": null,
   "id": "ed5d74ea",
   "metadata": {
    "scrolled": false
   },
   "outputs": [],
   "source": [
    "sns.set(style=\"ticks\")\n",
    "g = sns.catplot(x=\"yr_renovated\", y=\"price\", hue=\"Price Group\", data=df_haus)\n"
   ]
  },
  {
   "cell_type": "markdown",
   "id": "8906ac19",
   "metadata": {},
   "source": [
    "## 7. Revisit the questions you generated in the previous task and write answers to those you can based on the exploration you’ve conducted so far. Add any new questions that may have arisen based on the early findings in your visual exploration.\n"
   ]
  },
  {
   "cell_type": "markdown",
   "id": "42168d41",
   "metadata": {},
   "source": [
    "### Existing Questions\n",
    "1) What is the distribution of house prices in King County, USA?\n",
    "2) How do types of houses impact the prices?\n",
    "3) How does the value of the waterfront or view affect house prices?\n",
    "4) Are any specific ZIP codes in King County known for higher or lower house prices?\n",
    "5) What is the average size of living space and lot and how does it correlate with the price?\n",
    "6) How have house prices been influenced by grades or conditions?\n",
    "7) What is the average age of houses in the dataset, and does that affect prices?\n",
    "\n",
    "### New Questions\n",
    "1) How has the average house price in King County changed over time? \n",
    "2) Is there any seasonality in house sales?\n",
    "3) What are the most common types of houses in the dataset?"
   ]
  },
  {
   "cell_type": "markdown",
   "id": "e6e5da03",
   "metadata": {},
   "source": [
    "## 8. Define any hypotheses that you can at this point. You’ll be testing these later on.\n"
   ]
  },
  {
   "cell_type": "markdown",
   "id": "87bc5d38",
   "metadata": {},
   "source": [
    "The average price of houses with a waterfront are higher than the price of houses without a waterfront.\n",
    "\n",
    "The average price of houses with a larger living space are higher than the price of houses with a smaller living space.\n",
    "\n",
    "The average price of houses with a higher grade are higher than the price of houses with a lower grade.\n",
    "\n",
    "The average price of houses with a younger age are higher than the price of houses with a older age."
   ]
  },
  {
   "cell_type": "code",
   "execution_count": null,
   "id": "5f293250",
   "metadata": {},
   "outputs": [],
   "source": []
  }
 ],
 "metadata": {
  "kernelspec": {
   "display_name": "Python 3 (ipykernel)",
   "language": "python",
   "name": "python3"
  },
  "language_info": {
   "codemirror_mode": {
    "name": "ipython",
    "version": 3
   },
   "file_extension": ".py",
   "mimetype": "text/x-python",
   "name": "python",
   "nbconvert_exporter": "python",
   "pygments_lexer": "ipython3",
   "version": "3.11.4"
  }
 },
 "nbformat": 4,
 "nbformat_minor": 5
}
